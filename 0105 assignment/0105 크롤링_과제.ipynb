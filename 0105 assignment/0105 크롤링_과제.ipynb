{
 "cells": [
  {
   "cell_type": "code",
   "execution_count": 34,
   "id": "70280144",
   "metadata": {},
   "outputs": [
    {
     "name": "stdout",
     "output_type": "stream",
     "text": [
      "Requirement already satisfied: selenium==4.8.2 in c:\\users\\user\\anaconda3\\lib\\site-packages (4.8.2)\n",
      "Requirement already satisfied: certifi>=2021.10.8 in c:\\users\\user\\anaconda3\\lib\\site-packages (from selenium==4.8.2) (2023.11.17)\n",
      "Requirement already satisfied: urllib3[socks]~=1.26 in c:\\users\\user\\anaconda3\\lib\\site-packages (from selenium==4.8.2) (1.26.15)\n",
      "Requirement already satisfied: trio~=0.17 in c:\\users\\user\\anaconda3\\lib\\site-packages (from selenium==4.8.2) (0.23.2)\n",
      "Requirement already satisfied: trio-websocket~=0.9 in c:\\users\\user\\anaconda3\\lib\\site-packages (from selenium==4.8.2) (0.11.1)\n",
      "Requirement already satisfied: sortedcontainers in c:\\users\\user\\anaconda3\\lib\\site-packages (from trio~=0.17->selenium==4.8.2) (2.4.0)\n",
      "Requirement already satisfied: idna in c:\\users\\user\\anaconda3\\lib\\site-packages (from trio~=0.17->selenium==4.8.2) (3.4)\n",
      "Requirement already satisfied: attrs>=20.1.0 in c:\\users\\user\\anaconda3\\lib\\site-packages (from trio~=0.17->selenium==4.8.2) (22.1.0)\n",
      "Requirement already satisfied: sniffio>=1.3.0 in c:\\users\\user\\anaconda3\\lib\\site-packages (from trio~=0.17->selenium==4.8.2) (1.3.0)\n",
      "Requirement already satisfied: outcome in c:\\users\\user\\anaconda3\\lib\\site-packages (from trio~=0.17->selenium==4.8.2) (1.3.0.post0)\n",
      "Requirement already satisfied: cffi>=1.14 in c:\\users\\user\\anaconda3\\lib\\site-packages (from trio~=0.17->selenium==4.8.2) (1.15.1)\n",
      "Requirement already satisfied: exceptiongroup in c:\\users\\user\\anaconda3\\lib\\site-packages (from trio~=0.17->selenium==4.8.2) (1.2.0)\n",
      "Requirement already satisfied: wsproto>=0.14 in c:\\users\\user\\anaconda3\\lib\\site-packages (from trio-websocket~=0.9->selenium==4.8.2) (1.2.0)\n",
      "Requirement already satisfied: PySocks!=1.5.7,<2.0,>=1.5.6 in c:\\users\\user\\anaconda3\\lib\\site-packages (from urllib3[socks]~=1.26->selenium==4.8.2) (1.7.1)\n",
      "Requirement already satisfied: pycparser in c:\\users\\user\\anaconda3\\lib\\site-packages (from cffi>=1.14->trio~=0.17->selenium==4.8.2) (2.21)\n",
      "Requirement already satisfied: h11<1,>=0.9.0 in c:\\users\\user\\anaconda3\\lib\\site-packages (from wsproto>=0.14->trio-websocket~=0.9->selenium==4.8.2) (0.14.0)\n",
      "Note: you may need to restart the kernel to use updated packages.\n"
     ]
    }
   ],
   "source": [
    "pip install selenium==4.8.2"
   ]
  },
  {
   "cell_type": "code",
   "execution_count": 8,
   "id": "5dd49362",
   "metadata": {},
   "outputs": [
    {
     "name": "stdout",
     "output_type": "stream",
     "text": [
      "4.8.2\n"
     ]
    }
   ],
   "source": [
    "from bs4 import BeautifulSoup\n",
    "import selenium\n",
    "from selenium import webdriver\n",
    "from selenium.webdriver.chrome.service import Service\n",
    "from selenium.webdriver.chrome.options import Options\n",
    "from webdriver_manager.chrome import ChromeDriverManager\n",
    "import pandas as pd\n",
    "import numpy as np\n",
    "import time\n",
    "from selenium.webdriver.common.by import By\n",
    "from selenium.webdriver.common.keys import Keys\n",
    "from selenium.webdriver.support.ui import WebDriverWait\n",
    "from selenium.webdriver.support import expected_conditions as EC\n",
    "import re\n",
    "print(selenium.__version__)"
   ]
  },
  {
   "cell_type": "code",
   "execution_count": 35,
   "id": "97d1e24d",
   "metadata": {},
   "outputs": [],
   "source": [
    "#크롬 브라우저 옵션 설정 위해 인스턴스 생성\n",
    "chrome_options = Options()\n",
    "\n",
    "#chrome 브라우저 webdriver 세션 종료하더라도 브라우저를 계속 실행하도록\n",
    "chrome_options.add_experimental_option(\"detach\", True)\n",
    "#로깅을 비활성화\n",
    "chrome_options.add_experimental_option(\"excludeSwitches\",[\"enable-logging\"])\n",
    "\n",
    "#chrome_options 매개변수를통해 전달되어 설정된 옵션을 사용하도록\n",
    "driver = webdriver.Chrome(options=chrome_options)"
   ]
  },
  {
   "cell_type": "code",
   "execution_count": 11,
   "id": "0c08ee72",
   "metadata": {},
   "outputs": [],
   "source": [
    "# 무신사 페이지 열기\n",
    "url = 'https://www.musinsa.com/app/codimap/lists?style_type=&tag_no=&brand=&display_cnt=60&list_kind=big&sort=comment_cnt&page=1'\n",
    "driver.get(url)\n",
    "driver.maximize_window() # 브라우저의 크기 전체화면으로 확대"
   ]
  },
  {
   "cell_type": "code",
   "execution_count": null,
   "id": "222b984e",
   "metadata": {},
   "outputs": [],
   "source": [
    "codimaps = []\n",
    "style_list_items = driver.find_elements(By.CLASS_NAME, \"style-list-item\")\n",
    "    \n",
    "for style_list_item in style_list_items:\n",
    "        codimap = {}\n",
    "\n",
    "        #class name이 style_list_information 인 div에서 codimap_title과 codimap_category 정보 가져오기\n",
    "        style_list_information = style_list_item.find_element(By.CLASS_NAME, \"style-list-information\")\n",
    "        codimap['codimap_category'] = style_list_information.find_element(By.TAG_NAME, \"span\").text\n",
    "        codimap['codimap_title'] = style_list_information.find_element(By.TAG_NAME, \"a\").get_attribute(\"title\")\n",
    "\n",
    "\n",
    "        #clas name이 post-information인 div에서 조회수, 댓글수, 날짜 가져오기\n",
    "        post_information = style_list_item.find_element(By.CLASS_NAME, \"post-information\")\n",
    "        spans = post_information.find_elements(By.TAG_NAME, \"span\")\n",
    "        codimap['codimap_date'] = spans[0].text\n",
    "        ##조회수랑 댓글 숫자만 담도록\n",
    "        views_text = spans[1].text\n",
    "        views_numeric = int(re.sub(\"[^0-9]\",\"\",views_text)) if views_text else 0 #views_text에서 숫자가 아닌 것은 \"\"빈카으로 대체\n",
    "        comments_text = spans[2].text\n",
    "        comments_numeric = int(re.sub(\"[^0-9]\", \"\", comments_text)) if comments_text else 0\n",
    "\n",
    "        codimap['views'] = views_numeric\n",
    "        codimap['comment_numbers'] = comments_numeric"
   ]
  },
  {
   "cell_type": "code",
   "execution_count": null,
   "id": "858c851c",
   "metadata": {},
   "outputs": [],
   "source": [
    "df_codimaps = pd.DataFrame(codimaps)\n",
    "csv_file_path = \"codimaps_data.csv\"\n",
    "df_codimaps.to_csv(csv_file_path, index=True, encoding = 'utf-8')\n",
    "\n",
    "print(f\"성공적으로 {csv_file_path}가 저장되었습니다.\")"
   ]
  },
  {
   "cell_type": "code",
   "execution_count": 38,
   "id": "def7d1bf",
   "metadata": {},
   "outputs": [
    {
     "ename": "StaleElementReferenceException",
     "evalue": "Message: stale element reference: stale element not found\n  (Session info: chrome=120.0.6099.200)\nStacktrace:\n\tGetHandleVerifier [0x00007FF767432142+3514994]\n\t(No symbol) [0x00007FF767050CE2]\n\t(No symbol) [0x00007FF766EF76AA]\n\t(No symbol) [0x00007FF766F079BF]\n\t(No symbol) [0x00007FF766EFDB89]\n\t(No symbol) [0x00007FF766EFBF22]\n\t(No symbol) [0x00007FF766EFF38F]\n\t(No symbol) [0x00007FF766EFF480]\n\t(No symbol) [0x00007FF766F41624]\n\t(No symbol) [0x00007FF766F4197C]\n\t(No symbol) [0x00007FF766F364FC]\n\t(No symbol) [0x00007FF766F6602F]\n\t(No symbol) [0x00007FF766F363B6]\n\t(No symbol) [0x00007FF766F66490]\n\t(No symbol) [0x00007FF766F828F6]\n\t(No symbol) [0x00007FF766F65D93]\n\t(No symbol) [0x00007FF766F34BDC]\n\t(No symbol) [0x00007FF766F35C64]\n\tGetHandleVerifier [0x00007FF76745E16B+3695259]\n\tGetHandleVerifier [0x00007FF7674B6737+4057191]\n\tGetHandleVerifier [0x00007FF7674AE4E3+4023827]\n\tGetHandleVerifier [0x00007FF7671804F9+689705]\n\t(No symbol) [0x00007FF76705C048]\n\t(No symbol) [0x00007FF767058044]\n\t(No symbol) [0x00007FF7670581C9]\n\t(No symbol) [0x00007FF7670488C4]\n\tBaseThreadInitThunk [0x00007FFD0577257D+29]\n\tRtlUserThreadStart [0x00007FFD0648AA58+40]\n",
     "output_type": "error",
     "traceback": [
      "\u001b[1;31m---------------------------------------------------------------------------\u001b[0m",
      "\u001b[1;31mStaleElementReferenceException\u001b[0m            Traceback (most recent call last)",
      "Cell \u001b[1;32mIn[38], line 17\u001b[0m\n\u001b[0;32m     14\u001b[0m codimap \u001b[38;5;241m=\u001b[39m {}\n\u001b[0;32m     16\u001b[0m \u001b[38;5;66;03m#class name이 style_list_information 인 div에서 codimap_title과 codimap_category 정보 가져오기\u001b[39;00m\n\u001b[1;32m---> 17\u001b[0m style_list_information \u001b[38;5;241m=\u001b[39m \u001b[43mstyle_list_item\u001b[49m\u001b[38;5;241;43m.\u001b[39;49m\u001b[43mfind_element\u001b[49m\u001b[43m(\u001b[49m\u001b[43mBy\u001b[49m\u001b[38;5;241;43m.\u001b[39;49m\u001b[43mCLASS_NAME\u001b[49m\u001b[43m,\u001b[49m\u001b[43m \u001b[49m\u001b[38;5;124;43m\"\u001b[39;49m\u001b[38;5;124;43mstyle-list-information\u001b[39;49m\u001b[38;5;124;43m\"\u001b[39;49m\u001b[43m)\u001b[49m\n\u001b[0;32m     18\u001b[0m codimap[\u001b[38;5;124m'\u001b[39m\u001b[38;5;124mcodimap_category\u001b[39m\u001b[38;5;124m'\u001b[39m] \u001b[38;5;241m=\u001b[39m style_list_information\u001b[38;5;241m.\u001b[39mfind_element(By\u001b[38;5;241m.\u001b[39mTAG_NAME, \u001b[38;5;124m\"\u001b[39m\u001b[38;5;124mspan\u001b[39m\u001b[38;5;124m\"\u001b[39m)\u001b[38;5;241m.\u001b[39mtext\n\u001b[0;32m     19\u001b[0m codimap[\u001b[38;5;124m'\u001b[39m\u001b[38;5;124mcodimap_title\u001b[39m\u001b[38;5;124m'\u001b[39m] \u001b[38;5;241m=\u001b[39m style_list_information\u001b[38;5;241m.\u001b[39mfind_element(By\u001b[38;5;241m.\u001b[39mTAG_NAME, \u001b[38;5;124m\"\u001b[39m\u001b[38;5;124ma\u001b[39m\u001b[38;5;124m\"\u001b[39m)\u001b[38;5;241m.\u001b[39mget_attribute(\u001b[38;5;124m\"\u001b[39m\u001b[38;5;124mtitle\u001b[39m\u001b[38;5;124m\"\u001b[39m)\n",
      "File \u001b[1;32m~\\anaconda3\\lib\\site-packages\\selenium\\webdriver\\remote\\webelement.py:425\u001b[0m, in \u001b[0;36mWebElement.find_element\u001b[1;34m(self, by, value)\u001b[0m\n\u001b[0;32m    422\u001b[0m     by \u001b[38;5;241m=\u001b[39m By\u001b[38;5;241m.\u001b[39mCSS_SELECTOR\n\u001b[0;32m    423\u001b[0m     value \u001b[38;5;241m=\u001b[39m \u001b[38;5;124mf\u001b[39m\u001b[38;5;124m'\u001b[39m\u001b[38;5;124m[name=\u001b[39m\u001b[38;5;124m\"\u001b[39m\u001b[38;5;132;01m{\u001b[39;00mvalue\u001b[38;5;132;01m}\u001b[39;00m\u001b[38;5;124m\"\u001b[39m\u001b[38;5;124m]\u001b[39m\u001b[38;5;124m'\u001b[39m\n\u001b[1;32m--> 425\u001b[0m \u001b[38;5;28;01mreturn\u001b[39;00m \u001b[38;5;28;43mself\u001b[39;49m\u001b[38;5;241;43m.\u001b[39;49m\u001b[43m_execute\u001b[49m\u001b[43m(\u001b[49m\u001b[43mCommand\u001b[49m\u001b[38;5;241;43m.\u001b[39;49m\u001b[43mFIND_CHILD_ELEMENT\u001b[49m\u001b[43m,\u001b[49m\u001b[43m \u001b[49m\u001b[43m{\u001b[49m\u001b[38;5;124;43m\"\u001b[39;49m\u001b[38;5;124;43musing\u001b[39;49m\u001b[38;5;124;43m\"\u001b[39;49m\u001b[43m:\u001b[49m\u001b[43m \u001b[49m\u001b[43mby\u001b[49m\u001b[43m,\u001b[49m\u001b[43m \u001b[49m\u001b[38;5;124;43m\"\u001b[39;49m\u001b[38;5;124;43mvalue\u001b[39;49m\u001b[38;5;124;43m\"\u001b[39;49m\u001b[43m:\u001b[49m\u001b[43m \u001b[49m\u001b[43mvalue\u001b[49m\u001b[43m}\u001b[49m\u001b[43m)\u001b[49m[\u001b[38;5;124m\"\u001b[39m\u001b[38;5;124mvalue\u001b[39m\u001b[38;5;124m\"\u001b[39m]\n",
      "File \u001b[1;32m~\\anaconda3\\lib\\site-packages\\selenium\\webdriver\\remote\\webelement.py:403\u001b[0m, in \u001b[0;36mWebElement._execute\u001b[1;34m(self, command, params)\u001b[0m\n\u001b[0;32m    401\u001b[0m     params \u001b[38;5;241m=\u001b[39m {}\n\u001b[0;32m    402\u001b[0m params[\u001b[38;5;124m\"\u001b[39m\u001b[38;5;124mid\u001b[39m\u001b[38;5;124m\"\u001b[39m] \u001b[38;5;241m=\u001b[39m \u001b[38;5;28mself\u001b[39m\u001b[38;5;241m.\u001b[39m_id\n\u001b[1;32m--> 403\u001b[0m \u001b[38;5;28;01mreturn\u001b[39;00m \u001b[38;5;28;43mself\u001b[39;49m\u001b[38;5;241;43m.\u001b[39;49m\u001b[43m_parent\u001b[49m\u001b[38;5;241;43m.\u001b[39;49m\u001b[43mexecute\u001b[49m\u001b[43m(\u001b[49m\u001b[43mcommand\u001b[49m\u001b[43m,\u001b[49m\u001b[43m \u001b[49m\u001b[43mparams\u001b[49m\u001b[43m)\u001b[49m\n",
      "File \u001b[1;32m~\\anaconda3\\lib\\site-packages\\selenium\\webdriver\\remote\\webdriver.py:440\u001b[0m, in \u001b[0;36mWebDriver.execute\u001b[1;34m(self, driver_command, params)\u001b[0m\n\u001b[0;32m    438\u001b[0m response \u001b[38;5;241m=\u001b[39m \u001b[38;5;28mself\u001b[39m\u001b[38;5;241m.\u001b[39mcommand_executor\u001b[38;5;241m.\u001b[39mexecute(driver_command, params)\n\u001b[0;32m    439\u001b[0m \u001b[38;5;28;01mif\u001b[39;00m response:\n\u001b[1;32m--> 440\u001b[0m     \u001b[38;5;28;43mself\u001b[39;49m\u001b[38;5;241;43m.\u001b[39;49m\u001b[43merror_handler\u001b[49m\u001b[38;5;241;43m.\u001b[39;49m\u001b[43mcheck_response\u001b[49m\u001b[43m(\u001b[49m\u001b[43mresponse\u001b[49m\u001b[43m)\u001b[49m\n\u001b[0;32m    441\u001b[0m     response[\u001b[38;5;124m\"\u001b[39m\u001b[38;5;124mvalue\u001b[39m\u001b[38;5;124m\"\u001b[39m] \u001b[38;5;241m=\u001b[39m \u001b[38;5;28mself\u001b[39m\u001b[38;5;241m.\u001b[39m_unwrap_value(response\u001b[38;5;241m.\u001b[39mget(\u001b[38;5;124m\"\u001b[39m\u001b[38;5;124mvalue\u001b[39m\u001b[38;5;124m\"\u001b[39m, \u001b[38;5;28;01mNone\u001b[39;00m))\n\u001b[0;32m    442\u001b[0m     \u001b[38;5;28;01mreturn\u001b[39;00m response\n",
      "File \u001b[1;32m~\\anaconda3\\lib\\site-packages\\selenium\\webdriver\\remote\\errorhandler.py:245\u001b[0m, in \u001b[0;36mErrorHandler.check_response\u001b[1;34m(self, response)\u001b[0m\n\u001b[0;32m    243\u001b[0m         alert_text \u001b[38;5;241m=\u001b[39m value[\u001b[38;5;124m\"\u001b[39m\u001b[38;5;124malert\u001b[39m\u001b[38;5;124m\"\u001b[39m]\u001b[38;5;241m.\u001b[39mget(\u001b[38;5;124m\"\u001b[39m\u001b[38;5;124mtext\u001b[39m\u001b[38;5;124m\"\u001b[39m)\n\u001b[0;32m    244\u001b[0m     \u001b[38;5;28;01mraise\u001b[39;00m exception_class(message, screen, stacktrace, alert_text)  \u001b[38;5;66;03m# type: ignore[call-arg]  # mypy is not smart enough here\u001b[39;00m\n\u001b[1;32m--> 245\u001b[0m \u001b[38;5;28;01mraise\u001b[39;00m exception_class(message, screen, stacktrace)\n",
      "\u001b[1;31mStaleElementReferenceException\u001b[0m: Message: stale element reference: stale element not found\n  (Session info: chrome=120.0.6099.200)\nStacktrace:\n\tGetHandleVerifier [0x00007FF767432142+3514994]\n\t(No symbol) [0x00007FF767050CE2]\n\t(No symbol) [0x00007FF766EF76AA]\n\t(No symbol) [0x00007FF766F079BF]\n\t(No symbol) [0x00007FF766EFDB89]\n\t(No symbol) [0x00007FF766EFBF22]\n\t(No symbol) [0x00007FF766EFF38F]\n\t(No symbol) [0x00007FF766EFF480]\n\t(No symbol) [0x00007FF766F41624]\n\t(No symbol) [0x00007FF766F4197C]\n\t(No symbol) [0x00007FF766F364FC]\n\t(No symbol) [0x00007FF766F6602F]\n\t(No symbol) [0x00007FF766F363B6]\n\t(No symbol) [0x00007FF766F66490]\n\t(No symbol) [0x00007FF766F828F6]\n\t(No symbol) [0x00007FF766F65D93]\n\t(No symbol) [0x00007FF766F34BDC]\n\t(No symbol) [0x00007FF766F35C64]\n\tGetHandleVerifier [0x00007FF76745E16B+3695259]\n\tGetHandleVerifier [0x00007FF7674B6737+4057191]\n\tGetHandleVerifier [0x00007FF7674AE4E3+4023827]\n\tGetHandleVerifier [0x00007FF7671804F9+689705]\n\t(No symbol) [0x00007FF76705C048]\n\t(No symbol) [0x00007FF767058044]\n\t(No symbol) [0x00007FF7670581C9]\n\t(No symbol) [0x00007FF7670488C4]\n\tBaseThreadInitThunk [0x00007FFD0577257D+29]\n\tRtlUserThreadStart [0x00007FFD0648AA58+40]\n"
     ]
    }
   ],
   "source": [
    "# 심화 도전 과제 버전 \n",
    "## 크롤링 도중에 에러가 납니다ㅜㅜㅜ\n",
    "for page in range(1,6):\n",
    "    url = f\"https://www.musinsa.com/app/codimap/lists?style_type=&tag_no=&brand=&display_cnt=60&list_kind=big&sort=comment_cnt&page={page}\"\n",
    "    \n",
    "    driver.get(url)\n",
    "    driver.maximize_window() # 브라우저의 크기 전체화면으로 확대    \n",
    "    \n",
    "\n",
    "    ## 60개의 코디맵 정보를 수집하기 위한 반복문\n",
    "    codimaps = []\n",
    "    style_list_items = driver.find_elements(By.CLASS_NAME, \"style-list-item\")\n",
    "    \n",
    "    for style_list_item in style_list_items:\n",
    "        codimap = {}\n",
    "\n",
    "        #class name이 style_list_information 인 div에서 codimap_title과 codimap_category 정보 가져오기\n",
    "        style_list_information = style_list_item.find_element(By.CLASS_NAME, \"style-list-information\")\n",
    "        codimap['codimap_category'] = style_list_information.find_element(By.TAG_NAME, \"span\").text\n",
    "        codimap['codimap_title'] = style_list_information.find_element(By.TAG_NAME, \"a\").get_attribute(\"title\")\n",
    "\n",
    "\n",
    "        #clas name이 post-information인 div에서 조회수, 댓글수, 날짜 가져오기\n",
    "        post_information = style_list_item.find_element(By.CLASS_NAME, \"post-information\")\n",
    "        spans = post_information.find_elements(By.TAG_NAME, \"span\")\n",
    "        codimap['codimap_date'] = spans[0].text\n",
    "        ##조회수랑 댓글 숫자만 담도록\n",
    "        views_text = spans[1].text\n",
    "        views_numeric = int(re.sub(\"[^0-9]\",\"\",views_text)) if views_text else 0 #views_text에서 숫자가 아닌 것은 \"\"빈칸으로 대체\n",
    "        comments_text = spans[2].text\n",
    "        comments_numeric = int(re.sub(\"[^0-9]\", \"\", comments_text)) if comments_text else 0\n",
    "\n",
    "        codimap['views'] = views_numeric\n",
    "        codimap['comment_numbers'] = comments_numeric\n",
    "        \n",
    "        ##심화 과제 추가 정보 가져오기\n",
    "        try : \n",
    "            style_list_item.find_element(By.CLASS_NAME, \"style-list-item__link\").click()\n",
    "            \n",
    "            #explain, hashtag, imgurl 가져오기\n",
    "            codimap['codimap_explain'] = driver.find_element(By.CLASS_NAME, \"styling_txt\").text\n",
    "\n",
    "            hashtags = driver.find_elements(By.CLASS_NAME, 'ui-tag-list__item')\n",
    "            codimap['codimap_hashtag'] = [hashtag.text for hashtag in hashtags]\n",
    "\n",
    "            codimap['codimap_imgurl'] = driver.find_element(By.CLASS_NAME, 'photo').get_attribute('src')\n",
    "        except NoSuchElementException :\n",
    "            print(\"failed\")\n",
    "            \n",
    "        driver.back()\n",
    "        codimaps.append(codimap)\n",
    "    \n",
    "print(codimaps)"
   ]
  }
 ],
 "metadata": {
  "kernelspec": {
   "display_name": "Python 3 (ipykernel)",
   "language": "python",
   "name": "python3"
  },
  "language_info": {
   "codemirror_mode": {
    "name": "ipython",
    "version": 3
   },
   "file_extension": ".py",
   "mimetype": "text/x-python",
   "name": "python",
   "nbconvert_exporter": "python",
   "pygments_lexer": "ipython3",
   "version": "3.10.9"
  }
 },
 "nbformat": 4,
 "nbformat_minor": 5
}
